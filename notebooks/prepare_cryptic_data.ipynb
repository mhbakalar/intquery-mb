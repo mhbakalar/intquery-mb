{
 "cells": [
  {
   "cell_type": "code",
   "execution_count": 1,
   "metadata": {},
   "outputs": [],
   "source": [
    "# Set up path to import parent modules\n",
    "from pathlib import Path\n",
    "import sys  \n",
    "\n",
    "# Add to sys.path\n",
    "sys.path.insert(0, str(Path().resolve().parents[1]))\n",
    "\n",
    "# Preprosses cryptic seq data to normalize by on target\n",
    "import cryptic.utils as utils\n",
    "from cryptic.utils import cs_excel_data\n",
    "\n",
    "# Flag to trigger data export from excel files\n",
    "export_excel_data = True\n",
    "\n",
    "cs_data_file = '../data/TB000208a.outputs.xlsx'\n",
    "data_path = '../data/TB000208a'\n",
    "train_sheets = ['GT-Rep1-N7_S1','GT-Rep2-N7_S2','GT-Rep3-N7_S3']\n",
    "test_sheets = ['Pool-Rep1-N7_S4','Pool-Rep2-N7_S5','Pool-Rep3-N7_S6']\n",
    "\n",
    "if export_excel_data:\n",
    "    utils.cs_excel_data.extract_excel_cs_data(cs_data_file, train_sheets, data_path, 'fit.csv', threshold=0.001)\n",
    "    utils.cs_excel_data.extract_excel_cs_data(cs_data_file, test_sheets, data_path, 'test.csv', threshold=0.001, dn_exclusion=['GT','AC'])"
   ]
  },
  {
   "cell_type": "code",
   "execution_count": null,
   "metadata": {},
   "outputs": [],
   "source": [
    "# Set up path to import parent modules\n",
    "from pathlib import Path\n",
    "import sys  \n",
    "\n",
    "# Add to sys.path\n",
    "sys.path.insert(0, str(Path().resolve().parents[1]))\n",
    "\n",
    "# Preprosses cryptic seq data to normalize by on target\n",
    "import cryptic.utils as utils\n",
    "from cryptic.utils import cs_excel_data\n",
    "\n",
    "# Flag to trigger data export from excel files\n",
    "export_excel_data = True\n",
    "\n",
    "cs_data_file = '../data/TB000208a.outputs.xlsx'\n",
    "data_path = '../data/TB000208a'\n",
    "train_sheets = ['GT-Rep1-N7_S1','GT-Rep2-N7_S2','GT-Rep3-N7_S3']\n",
    "test_sheets = ['Pool-Rep1-N7_S4','Pool-Rep2-N7_S5','Pool-Rep3-N7_S6']\n",
    "\n",
    "if export_excel_data:\n",
    "    utils.cs_excel_data.extract_excel_cs_data(cs_data_file, train_sheets, data_path, 'fit.csv', threshold=0.001)\n",
    "    utils.cs_excel_data.extract_excel_cs_data(cs_data_file, test_sheets, data_path, 'fit.csv', threshold=0.001, append=True)"
   ]
  }
 ],
 "metadata": {
  "kernelspec": {
   "display_name": "base",
   "language": "python",
   "name": "python3"
  },
  "language_info": {
   "codemirror_mode": {
    "name": "ipython",
    "version": 3
   },
   "file_extension": ".py",
   "mimetype": "text/x-python",
   "name": "python",
   "nbconvert_exporter": "python",
   "pygments_lexer": "ipython3",
   "version": "3.11.3"
  }
 },
 "nbformat": 4,
 "nbformat_minor": 2
}
