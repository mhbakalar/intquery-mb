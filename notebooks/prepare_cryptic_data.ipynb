{
 "cells": [
  {
   "cell_type": "code",
   "execution_count": null,
   "metadata": {},
   "outputs": [],
   "source": [
    "# Preprosses cryptic seq data to normalize by on target\n",
    "from cryptic import utils\n",
    "\n",
    "# Flag to trigger data export from excel files\n",
    "export_excel_data = True\n",
    "\n",
    "cs_data_file = '../data/TB000208a.outputs.xlsx'\n",
    "data_path = '../data/TB000208a'\n",
    "train_sheets = ['GT-Rep1-N7_S1','GT-Rep2-N7_S2','GT-Rep3-N7_S3']\n",
    "test_sheets = ['Pool-Rep1-N7_S4','Pool-Rep2-N7_S5','Pool-Rep3-N7_S6']\n",
    "\n",
    "if export_excel_data:\n",
    "    utils.cs_excel_data.extract_excel_cs_data(cs_data_file, train_sheets, data_path, 'fit.csv')\n",
    "    sites = utils.cs_excel_data.extract_excel_cs_data(cs_data_file, test_sheets, data_path, 'test.csv', dn_exclusion=['GT','AC'])"
   ]
  }
 ],
 "metadata": {
  "language_info": {
   "name": "python"
  }
 },
 "nbformat": 4,
 "nbformat_minor": 2
}
