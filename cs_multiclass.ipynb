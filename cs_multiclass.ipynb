{
 "cells": [
  {
   "cell_type": "markdown",
   "metadata": {},
   "source": [
    "### Imports"
   ]
  },
  {
   "cell_type": "code",
   "execution_count": 1,
   "metadata": {},
   "outputs": [],
   "source": [
    "import os\n",
    "import pandas as pd\n",
    "import numpy as np\n",
    "import torch\n",
    "import lightning as L\n",
    "import lightning.pytorch as pl"
   ]
  },
  {
   "cell_type": "markdown",
   "metadata": {},
   "source": [
    "### Load sequence data from cryptic seq experiment"
   ]
  },
  {
   "cell_type": "code",
   "execution_count": 2,
   "metadata": {},
   "outputs": [],
   "source": [
    "# Preprosses cryptic seq data to normalize by on target\n",
    "import utils.cs_excel_data\n",
    "\n",
    "# Flag to trigger data export from excel files\n",
    "export_excel_data = False\n",
    "\n",
    "cs_data_file = 'data/TB000208a.outputs.xlsx'\n",
    "data_path = 'data/Tb000208a'\n",
    "train_sheets = ['GT-Rep1-N7_S1','GT-Rep2-N7_S2','GT-Rep3-N7_S3']\n",
    "test_sheets = ['Pool-Rep1-N7_S4','Pool-Rep2-N7_S5','Pool-Rep3-N7_S6']\n",
    "\n",
    "if export_excel_data:\n",
    "    utils.cs_excel_data.extract_excel_cs_data(cs_data_file, train_sheets, data_path, 'fit.csv')\n",
    "    utils.cs_excel_data.extract_excel_cs_data(cs_data_file, test_sheets, data_path, 'test.csv')"
   ]
  },
  {
   "cell_type": "code",
   "execution_count": 9,
   "metadata": {},
   "outputs": [],
   "source": [
    "from lightning.pytorch.utilities.types import EVAL_DATALOADERS\n",
    "from models import mlp\n",
    "from datasets import one_hot\n",
    "\n",
    "n_classes = 2\n",
    "seq_length = 22\n",
    "vocab_size = 5\n",
    "input_size = seq_length*vocab_size\n",
    "hidden_size = 1024\n",
    "n_hidden = 2\n",
    "train_test_split = 0.8\n",
    "\n",
    "class CSDataModule(L.LightningDataModule):\n",
    "    def __init__(self, data_path, batch_size):\n",
    "        super().__init__()\n",
    "        self.data_path = data_path\n",
    "        self.batch_size = batch_size\n",
    "\n",
    "    def setup(self, stage: str):\n",
    "        # Select test/train dataset\n",
    "        fname = stage + '.csv'\n",
    "\n",
    "        # Load the cryptic seq data\n",
    "        sites = pd.read_csv(os.path.join(self.data_path, fname))\n",
    "\n",
    "        # Threshold the data to assign a label\n",
    "        sites['label'] = (sites['norm_count'] > 1e-2).astype(int)\n",
    "\n",
    "        # Compute class frequencies for weighting\n",
    "        class_sample_count = np.array([len(np.where(sites['label'] == c)[0]) for c in np.unique(sites['label'])])\n",
    "\n",
    "        # Cryptic sites data for training\n",
    "        sequences = sites['seq'].values\n",
    "        labels = sites['label'].values\n",
    "        self.seq_length = len(sequences[0])\n",
    "        self.dataset = one_hot.Dataset(sequences, labels, vocab_size=vocab_size, output_size=n_classes)\n",
    "\n",
    "        # Sample weights based on label and class frequency\n",
    "        weight = 1. / class_sample_count\n",
    "        samples_weight = np.array([weight[t] for t in labels])\n",
    "        self.samples_weight = torch.from_numpy(samples_weight)\n",
    "\n",
    "        if stage == 'fit':\n",
    "            # Test and train data split\n",
    "            train_size = int(train_test_split*len(self.dataset))\n",
    "            test_size = len(self.dataset) - train_size\n",
    "            self.train_dataset, self.val_dataset = torch.utils.data.random_split(self.dataset, [train_size, test_size])\n",
    "\n",
    "            # Weighted random sampler for upsampling minority class for training\n",
    "            train_sample_weights = samples_weight[self.train_dataset.indices]\n",
    "            self.train_sampler = torch.utils.data.WeightedRandomSampler(train_sample_weights, len(train_sample_weights), replacement=True)\n",
    "\n",
    "        elif stage == 'test':\n",
    "            self.test_dataset = self.dataset\n",
    "\n",
    "        elif stage == 'predict':\n",
    "            self.pred_dataset = self.dataset\n",
    "\n",
    "    def train_dataloader(self):\n",
    "        return torch.utils.data.DataLoader(self.train_dataset, batch_size=self.batch_size, sampler=self.train_sampler)\n",
    "\n",
    "    def val_dataloader(self):\n",
    "        return torch.utils.data.DataLoader(self.val_dataset, batch_size=self.batch_size)\n",
    "    \n",
    "    def test_dataloader(self):\n",
    "        return torch.utils.data.DataLoader(self.test_dataset, batch_size=self.batch_size)\n",
    "    \n",
    "    def predict_dataloader(self):\n",
    "        return torch.utils.data.DataLoader(self.pred_dataset, batch_size=self.batch_size)\n",
    "\n",
    "data_module = CSDataModule(data_path, batch_size=32)\n",
    "\n",
    "# Build model\n",
    "model = mlp.Model(input_size=input_size, hidden_size=hidden_size, output_size=n_classes, n_hidden=n_hidden, dropout=0.5)\n",
    "optimizer = torch.optim.Adam(model.parameters(), lr=0.001)"
   ]
  },
  {
   "cell_type": "markdown",
   "metadata": {},
   "source": [
    "### Training"
   ]
  },
  {
   "cell_type": "code",
   "execution_count": 11,
   "metadata": {},
   "outputs": [
    {
     "name": "stderr",
     "output_type": "stream",
     "text": [
      "GPU available: True (mps), used: True\n",
      "TPU available: False, using: 0 TPU cores\n",
      "IPU available: False, using: 0 IPUs\n",
      "HPU available: False, using: 0 HPUs\n",
      "\n",
      "  | Name     | Type               | Params\n",
      "------------------------------------------------\n",
      "0 | model    | Model              | 1.2 M \n",
      "1 | sigmoid  | Sigmoid            | 0     \n",
      "2 | loss_fn  | BCEWithLogitsLoss  | 0     \n",
      "3 | accuracy | MulticlassAccuracy | 0     \n",
      "------------------------------------------------\n",
      "1.2 M     Trainable params\n",
      "0         Non-trainable params\n",
      "1.2 M     Total params\n",
      "4.661     Total estimated model params size (MB)\n"
     ]
    },
    {
     "data": {
      "application/vnd.jupyter.widget-view+json": {
       "model_id": "f906b6e7f4264b91bc51c0d3baa24701",
       "version_major": 2,
       "version_minor": 0
      },
      "text/plain": [
       "Sanity Checking: |          | 0/? [00:00<?, ?it/s]"
      ]
     },
     "metadata": {},
     "output_type": "display_data"
    },
    {
     "name": "stderr",
     "output_type": "stream",
     "text": [
      "/Users/matthewbakalar/anaconda3/lib/python3.11/site-packages/lightning/pytorch/trainer/connectors/data_connector.py:441: The 'val_dataloader' does not have many workers which may be a bottleneck. Consider increasing the value of the `num_workers` argument` to `num_workers=9` in the `DataLoader` to improve performance.\n",
      "/Users/matthewbakalar/anaconda3/lib/python3.11/site-packages/lightning/pytorch/trainer/connectors/data_connector.py:441: The 'train_dataloader' does not have many workers which may be a bottleneck. Consider increasing the value of the `num_workers` argument` to `num_workers=9` in the `DataLoader` to improve performance.\n"
     ]
    },
    {
     "data": {
      "application/vnd.jupyter.widget-view+json": {
       "model_id": "a3a8376ffc9c48b2a1709d0ae7d1342b",
       "version_major": 2,
       "version_minor": 0
      },
      "text/plain": [
       "Training: |          | 0/? [00:00<?, ?it/s]"
      ]
     },
     "metadata": {},
     "output_type": "display_data"
    },
    {
     "data": {
      "application/vnd.jupyter.widget-view+json": {
       "model_id": "ed4ad238715741eeb4057fe278986a61",
       "version_major": 2,
       "version_minor": 0
      },
      "text/plain": [
       "Validation: |          | 0/? [00:00<?, ?it/s]"
      ]
     },
     "metadata": {},
     "output_type": "display_data"
    },
    {
     "data": {
      "application/vnd.jupyter.widget-view+json": {
       "model_id": "15ad45fe67a7436b90a538f8a44360be",
       "version_major": 2,
       "version_minor": 0
      },
      "text/plain": [
       "Validation: |          | 0/? [00:00<?, ?it/s]"
      ]
     },
     "metadata": {},
     "output_type": "display_data"
    },
    {
     "data": {
      "application/vnd.jupyter.widget-view+json": {
       "model_id": "5eb9197d478e414c9d8b5e0c9453435a",
       "version_major": 2,
       "version_minor": 0
      },
      "text/plain": [
       "Validation: |          | 0/? [00:00<?, ?it/s]"
      ]
     },
     "metadata": {},
     "output_type": "display_data"
    },
    {
     "data": {
      "application/vnd.jupyter.widget-view+json": {
       "model_id": "bcd0e66bc6cb4d16a8957f9599041765",
       "version_major": 2,
       "version_minor": 0
      },
      "text/plain": [
       "Validation: |          | 0/? [00:00<?, ?it/s]"
      ]
     },
     "metadata": {},
     "output_type": "display_data"
    },
    {
     "data": {
      "application/vnd.jupyter.widget-view+json": {
       "model_id": "2245a1e895d74df5841498ca7b13656e",
       "version_major": 2,
       "version_minor": 0
      },
      "text/plain": [
       "Validation: |          | 0/? [00:00<?, ?it/s]"
      ]
     },
     "metadata": {},
     "output_type": "display_data"
    },
    {
     "name": "stderr",
     "output_type": "stream",
     "text": [
      "`Trainer.fit` stopped: `max_epochs=5` reached.\n"
     ]
    }
   ],
   "source": [
    "from typing import Any\n",
    "import torchmetrics\n",
    "\n",
    "# define the LightningModule\n",
    "class LitClassifier(pl.LightningModule):\n",
    "    def __init__(self, model):\n",
    "        super().__init__()\n",
    "        self.model = model\n",
    "        self.sigmoid = torch.nn.Sigmoid()\n",
    "        self.loss_fn = torch.nn.BCEWithLogitsLoss()\n",
    "        self.accuracy = torchmetrics.Accuracy(task=\"multiclass\", num_classes=n_classes)\n",
    "\n",
    "    def forward(self, x):\n",
    "        return self.model(x)\n",
    "    \n",
    "    def logging(self, logits, target, loss, stage):\n",
    "        # Logging to TensorBoard (if installed) by default\n",
    "        pred = self.sigmoid(logits)\n",
    "        self.accuracy(torch.argmax(pred,1), torch.argmax(target,1))\n",
    "        self.log(f'{stage}_acc_step', self.accuracy)\n",
    "        self.log(f'{stage}_loss', loss)\n",
    "\n",
    "    def training_step(self, batch, batch_idx):\n",
    "        # Model pass\n",
    "        data, target = batch\n",
    "        logits = self(data)\n",
    "        loss = self.loss_fn(logits, target.float())\n",
    "        self.logging(logits, target, loss, 'train')\n",
    "        return loss\n",
    "    \n",
    "    def validation_step(self, batch, batch_idx):\n",
    "        # Model pass\n",
    "        data, target = batch\n",
    "        logits = self(data)\n",
    "        loss = self.loss_fn(logits, target.float())\n",
    "        self.logging(logits, target, loss, 'val')\n",
    "        return loss\n",
    "    \n",
    "    def test_step(self, batch, batch_idx):\n",
    "        # Model pass\n",
    "        data, target = batch\n",
    "        logits = self(data)\n",
    "        loss = self.loss_fn(logits, target.float())\n",
    "        self.logging(logits, target, loss, 'test')\n",
    "        return loss\n",
    "    \n",
    "    def predict_step(self, batch, batch_idx):\n",
    "        # Model pass\n",
    "        data, target = batch\n",
    "        output = self.sigmoid(self(data))\n",
    "        preds = torch.argmax(output, 1)\n",
    "        return preds\n",
    "\n",
    "    def configure_optimizers(self):\n",
    "        optimizer = torch.optim.Adam(self.parameters(), lr=1e-3)\n",
    "        return optimizer\n",
    "    \n",
    "# init the autoencoder\n",
    "lit_model = LitClassifier(model)\n",
    "\n",
    "# train the model\n",
    "tb_logger = pl.loggers.TensorBoardLogger(save_dir=\"lightning_logs/\")\n",
    "trainer = pl.Trainer(max_epochs=5, logger=tb_logger, accelerator=\"gpu\")\n",
    "trainer.fit(lit_model, data_module)"
   ]
  },
  {
   "cell_type": "markdown",
   "metadata": {},
   "source": [
    "### Analysis"
   ]
  },
  {
   "cell_type": "code",
   "execution_count": 54,
   "metadata": {},
   "outputs": [
    {
     "name": "stderr",
     "output_type": "stream",
     "text": [
      "/Users/matthewbakalar/anaconda3/lib/python3.11/site-packages/lightning/pytorch/trainer/connectors/data_connector.py:441: The 'predict_dataloader' does not have many workers which may be a bottleneck. Consider increasing the value of the `num_workers` argument` to `num_workers=9` in the `DataLoader` to improve performance.\n"
     ]
    },
    {
     "data": {
      "application/vnd.jupyter.widget-view+json": {
       "model_id": "166f1b28db3741738882ba163f4709ca",
       "version_major": 2,
       "version_minor": 0
      },
      "text/plain": [
       "Predicting: |          | 0/? [00:00<?, ?it/s]"
      ]
     },
     "metadata": {},
     "output_type": "display_data"
    }
   ],
   "source": [
    "preds = trainer.predict(lit_model, data_module)\n",
    "preds = torch.hstack(preds)"
   ]
  },
  {
   "cell_type": "code",
   "execution_count": 55,
   "metadata": {},
   "outputs": [
    {
     "ename": "TypeError",
     "evalue": "unhashable type: 'numpy.ndarray'",
     "output_type": "error",
     "traceback": [
      "\u001b[0;31m---------------------------------------------------------------------------\u001b[0m",
      "\u001b[0;31mTypeError\u001b[0m                                 Traceback (most recent call last)",
      "\u001b[1;32m/Users/matthewbakalar/Documents/Code/cryptic/cs_multiclass.ipynb Cell 10\u001b[0m line \u001b[0;36m9\n\u001b[1;32m      <a href='vscode-notebook-cell:/Users/matthewbakalar/Documents/Code/cryptic/cs_multiclass.ipynb#X21sZmlsZQ%3D%3D?line=6'>7</a>\u001b[0m trans_dict \u001b[39m=\u001b[39m {\u001b[39m0\u001b[39m:\u001b[39m'\u001b[39m\u001b[39mA\u001b[39m\u001b[39m'\u001b[39m,\u001b[39m1\u001b[39m:\u001b[39m'\u001b[39m\u001b[39mT\u001b[39m\u001b[39m'\u001b[39m,\u001b[39m2\u001b[39m:\u001b[39m'\u001b[39m\u001b[39mC\u001b[39m\u001b[39m'\u001b[39m,\u001b[39m3\u001b[39m:\u001b[39m'\u001b[39m\u001b[39mG\u001b[39m\u001b[39m'\u001b[39m,\u001b[39m4\u001b[39m:\u001b[39m'\u001b[39m\u001b[39mN\u001b[39m\u001b[39m'\u001b[39m}\n\u001b[1;32m      <a href='vscode-notebook-cell:/Users/matthewbakalar/Documents/Code/cryptic/cs_multiclass.ipynb#X21sZmlsZQ%3D%3D?line=7'>8</a>\u001b[0m translate_func \u001b[39m=\u001b[39m \u001b[39mlambda\u001b[39;00m x: \u001b[39m'\u001b[39m\u001b[39m'\u001b[39m\u001b[39m.\u001b[39mjoin([trans_dict[y] \u001b[39mfor\u001b[39;00m y \u001b[39min\u001b[39;00m x])\n\u001b[0;32m----> <a href='vscode-notebook-cell:/Users/matthewbakalar/Documents/Code/cryptic/cs_multiclass.ipynb#X21sZmlsZQ%3D%3D?line=8'>9</a>\u001b[0m sequences \u001b[39m=\u001b[39m [translate_func(x) \u001b[39mfor\u001b[39;00m x \u001b[39min\u001b[39;00m inputs\u001b[39m.\u001b[39mnumpy()]\n\u001b[1;32m     <a href='vscode-notebook-cell:/Users/matthewbakalar/Documents/Code/cryptic/cs_multiclass.ipynb#X21sZmlsZQ%3D%3D?line=10'>11</a>\u001b[0m labels \u001b[39m=\u001b[39m torch\u001b[39m.\u001b[39margmax(torch\u001b[39m.\u001b[39mvstack(labels),\u001b[39m1\u001b[39m)\n\u001b[1;32m     <a href='vscode-notebook-cell:/Users/matthewbakalar/Documents/Code/cryptic/cs_multiclass.ipynb#X21sZmlsZQ%3D%3D?line=11'>12</a>\u001b[0m predictions \u001b[39m=\u001b[39m pd\u001b[39m.\u001b[39mDataFrame({\u001b[39m'\u001b[39m\u001b[39mseq\u001b[39m\u001b[39m'\u001b[39m:sequences, \u001b[39m'\u001b[39m\u001b[39mlabels\u001b[39m\u001b[39m'\u001b[39m:labels, \u001b[39m'\u001b[39m\u001b[39mpreds\u001b[39m\u001b[39m'\u001b[39m:preds})\n",
      "\u001b[1;32m/Users/matthewbakalar/Documents/Code/cryptic/cs_multiclass.ipynb Cell 10\u001b[0m line \u001b[0;36m9\n\u001b[1;32m      <a href='vscode-notebook-cell:/Users/matthewbakalar/Documents/Code/cryptic/cs_multiclass.ipynb#X21sZmlsZQ%3D%3D?line=6'>7</a>\u001b[0m trans_dict \u001b[39m=\u001b[39m {\u001b[39m0\u001b[39m:\u001b[39m'\u001b[39m\u001b[39mA\u001b[39m\u001b[39m'\u001b[39m,\u001b[39m1\u001b[39m:\u001b[39m'\u001b[39m\u001b[39mT\u001b[39m\u001b[39m'\u001b[39m,\u001b[39m2\u001b[39m:\u001b[39m'\u001b[39m\u001b[39mC\u001b[39m\u001b[39m'\u001b[39m,\u001b[39m3\u001b[39m:\u001b[39m'\u001b[39m\u001b[39mG\u001b[39m\u001b[39m'\u001b[39m,\u001b[39m4\u001b[39m:\u001b[39m'\u001b[39m\u001b[39mN\u001b[39m\u001b[39m'\u001b[39m}\n\u001b[1;32m      <a href='vscode-notebook-cell:/Users/matthewbakalar/Documents/Code/cryptic/cs_multiclass.ipynb#X21sZmlsZQ%3D%3D?line=7'>8</a>\u001b[0m translate_func \u001b[39m=\u001b[39m \u001b[39mlambda\u001b[39;00m x: \u001b[39m'\u001b[39m\u001b[39m'\u001b[39m\u001b[39m.\u001b[39mjoin([trans_dict[y] \u001b[39mfor\u001b[39;00m y \u001b[39min\u001b[39;00m x])\n\u001b[0;32m----> <a href='vscode-notebook-cell:/Users/matthewbakalar/Documents/Code/cryptic/cs_multiclass.ipynb#X21sZmlsZQ%3D%3D?line=8'>9</a>\u001b[0m sequences \u001b[39m=\u001b[39m [translate_func(x) \u001b[39mfor\u001b[39;00m x \u001b[39min\u001b[39;00m inputs\u001b[39m.\u001b[39mnumpy()]\n\u001b[1;32m     <a href='vscode-notebook-cell:/Users/matthewbakalar/Documents/Code/cryptic/cs_multiclass.ipynb#X21sZmlsZQ%3D%3D?line=10'>11</a>\u001b[0m labels \u001b[39m=\u001b[39m torch\u001b[39m.\u001b[39margmax(torch\u001b[39m.\u001b[39mvstack(labels),\u001b[39m1\u001b[39m)\n\u001b[1;32m     <a href='vscode-notebook-cell:/Users/matthewbakalar/Documents/Code/cryptic/cs_multiclass.ipynb#X21sZmlsZQ%3D%3D?line=11'>12</a>\u001b[0m predictions \u001b[39m=\u001b[39m pd\u001b[39m.\u001b[39mDataFrame({\u001b[39m'\u001b[39m\u001b[39mseq\u001b[39m\u001b[39m'\u001b[39m:sequences, \u001b[39m'\u001b[39m\u001b[39mlabels\u001b[39m\u001b[39m'\u001b[39m:labels, \u001b[39m'\u001b[39m\u001b[39mpreds\u001b[39m\u001b[39m'\u001b[39m:preds})\n",
      "\u001b[1;32m/Users/matthewbakalar/Documents/Code/cryptic/cs_multiclass.ipynb Cell 10\u001b[0m line \u001b[0;36m8\n\u001b[1;32m      <a href='vscode-notebook-cell:/Users/matthewbakalar/Documents/Code/cryptic/cs_multiclass.ipynb#X21sZmlsZQ%3D%3D?line=5'>6</a>\u001b[0m inputs \u001b[39m=\u001b[39m torch\u001b[39m.\u001b[39mvstack(inputs)\n\u001b[1;32m      <a href='vscode-notebook-cell:/Users/matthewbakalar/Documents/Code/cryptic/cs_multiclass.ipynb#X21sZmlsZQ%3D%3D?line=6'>7</a>\u001b[0m trans_dict \u001b[39m=\u001b[39m {\u001b[39m0\u001b[39m:\u001b[39m'\u001b[39m\u001b[39mA\u001b[39m\u001b[39m'\u001b[39m,\u001b[39m1\u001b[39m:\u001b[39m'\u001b[39m\u001b[39mT\u001b[39m\u001b[39m'\u001b[39m,\u001b[39m2\u001b[39m:\u001b[39m'\u001b[39m\u001b[39mC\u001b[39m\u001b[39m'\u001b[39m,\u001b[39m3\u001b[39m:\u001b[39m'\u001b[39m\u001b[39mG\u001b[39m\u001b[39m'\u001b[39m,\u001b[39m4\u001b[39m:\u001b[39m'\u001b[39m\u001b[39mN\u001b[39m\u001b[39m'\u001b[39m}\n\u001b[0;32m----> <a href='vscode-notebook-cell:/Users/matthewbakalar/Documents/Code/cryptic/cs_multiclass.ipynb#X21sZmlsZQ%3D%3D?line=7'>8</a>\u001b[0m translate_func \u001b[39m=\u001b[39m \u001b[39mlambda\u001b[39;00m x: \u001b[39m'\u001b[39m\u001b[39m'\u001b[39m\u001b[39m.\u001b[39mjoin([trans_dict[y] \u001b[39mfor\u001b[39;00m y \u001b[39min\u001b[39;00m x])\n\u001b[1;32m      <a href='vscode-notebook-cell:/Users/matthewbakalar/Documents/Code/cryptic/cs_multiclass.ipynb#X21sZmlsZQ%3D%3D?line=8'>9</a>\u001b[0m sequences \u001b[39m=\u001b[39m [translate_func(x) \u001b[39mfor\u001b[39;00m x \u001b[39min\u001b[39;00m inputs\u001b[39m.\u001b[39mnumpy()]\n\u001b[1;32m     <a href='vscode-notebook-cell:/Users/matthewbakalar/Documents/Code/cryptic/cs_multiclass.ipynb#X21sZmlsZQ%3D%3D?line=10'>11</a>\u001b[0m labels \u001b[39m=\u001b[39m torch\u001b[39m.\u001b[39margmax(torch\u001b[39m.\u001b[39mvstack(labels),\u001b[39m1\u001b[39m)\n",
      "\u001b[1;32m/Users/matthewbakalar/Documents/Code/cryptic/cs_multiclass.ipynb Cell 10\u001b[0m line \u001b[0;36m8\n\u001b[1;32m      <a href='vscode-notebook-cell:/Users/matthewbakalar/Documents/Code/cryptic/cs_multiclass.ipynb#X21sZmlsZQ%3D%3D?line=5'>6</a>\u001b[0m inputs \u001b[39m=\u001b[39m torch\u001b[39m.\u001b[39mvstack(inputs)\n\u001b[1;32m      <a href='vscode-notebook-cell:/Users/matthewbakalar/Documents/Code/cryptic/cs_multiclass.ipynb#X21sZmlsZQ%3D%3D?line=6'>7</a>\u001b[0m trans_dict \u001b[39m=\u001b[39m {\u001b[39m0\u001b[39m:\u001b[39m'\u001b[39m\u001b[39mA\u001b[39m\u001b[39m'\u001b[39m,\u001b[39m1\u001b[39m:\u001b[39m'\u001b[39m\u001b[39mT\u001b[39m\u001b[39m'\u001b[39m,\u001b[39m2\u001b[39m:\u001b[39m'\u001b[39m\u001b[39mC\u001b[39m\u001b[39m'\u001b[39m,\u001b[39m3\u001b[39m:\u001b[39m'\u001b[39m\u001b[39mG\u001b[39m\u001b[39m'\u001b[39m,\u001b[39m4\u001b[39m:\u001b[39m'\u001b[39m\u001b[39mN\u001b[39m\u001b[39m'\u001b[39m}\n\u001b[0;32m----> <a href='vscode-notebook-cell:/Users/matthewbakalar/Documents/Code/cryptic/cs_multiclass.ipynb#X21sZmlsZQ%3D%3D?line=7'>8</a>\u001b[0m translate_func \u001b[39m=\u001b[39m \u001b[39mlambda\u001b[39;00m x: \u001b[39m'\u001b[39m\u001b[39m'\u001b[39m\u001b[39m.\u001b[39mjoin([trans_dict[y] \u001b[39mfor\u001b[39;00m y \u001b[39min\u001b[39;00m x])\n\u001b[1;32m      <a href='vscode-notebook-cell:/Users/matthewbakalar/Documents/Code/cryptic/cs_multiclass.ipynb#X21sZmlsZQ%3D%3D?line=8'>9</a>\u001b[0m sequences \u001b[39m=\u001b[39m [translate_func(x) \u001b[39mfor\u001b[39;00m x \u001b[39min\u001b[39;00m inputs\u001b[39m.\u001b[39mnumpy()]\n\u001b[1;32m     <a href='vscode-notebook-cell:/Users/matthewbakalar/Documents/Code/cryptic/cs_multiclass.ipynb#X21sZmlsZQ%3D%3D?line=10'>11</a>\u001b[0m labels \u001b[39m=\u001b[39m torch\u001b[39m.\u001b[39margmax(torch\u001b[39m.\u001b[39mvstack(labels),\u001b[39m1\u001b[39m)\n",
      "\u001b[0;31mTypeError\u001b[0m: unhashable type: 'numpy.ndarray'"
     ]
    }
   ],
   "source": [
    "# Fix this to unzip a tuple\n",
    "data = list(data_module.predict_dataloader())\n",
    "inputs, labels = map(list, zip(*data))\n",
    "\n",
    "# Translate inputs\n",
    "inputs = torch.vstack(inputs)\n",
    "trans_dict = {0:'A',1:'T',2:'C',3:'G',4:'N'}\n",
    "translate_func = lambda x: ''.join([trans_dict[y] for y in x])\n",
    "sequences = [translate_func(x) for x in inputs.numpy()]\n",
    "\n",
    "labels = torch.argmax(torch.vstack(labels),1)\n",
    "predictions = pd.DataFrame({'seq':sequences, 'labels':labels, 'preds':preds})"
   ]
  },
  {
   "cell_type": "code",
   "execution_count": 64,
   "metadata": {},
   "outputs": [
    {
     "ename": "TypeError",
     "evalue": "unhashable type: 'numpy.ndarray'",
     "output_type": "error",
     "traceback": [
      "\u001b[0;31m---------------------------------------------------------------------------\u001b[0m",
      "\u001b[0;31mTypeError\u001b[0m                                 Traceback (most recent call last)",
      "\u001b[1;32m/Users/matthewbakalar/Documents/Code/cryptic/cs_multiclass.ipynb Cell 11\u001b[0m line \u001b[0;36m2\n\u001b[1;32m      <a href='vscode-notebook-cell:/Users/matthewbakalar/Documents/Code/cryptic/cs_multiclass.ipynb#X26sZmlsZQ%3D%3D?line=0'>1</a>\u001b[0m x \u001b[39m=\u001b[39m inputs\u001b[39m.\u001b[39mnumpy()[\u001b[39m0\u001b[39m]\n\u001b[0;32m----> <a href='vscode-notebook-cell:/Users/matthewbakalar/Documents/Code/cryptic/cs_multiclass.ipynb#X26sZmlsZQ%3D%3D?line=1'>2</a>\u001b[0m [trans_dict[y] \u001b[39mfor\u001b[39;00m y \u001b[39min\u001b[39;00m x]\n",
      "\u001b[1;32m/Users/matthewbakalar/Documents/Code/cryptic/cs_multiclass.ipynb Cell 11\u001b[0m line \u001b[0;36m2\n\u001b[1;32m      <a href='vscode-notebook-cell:/Users/matthewbakalar/Documents/Code/cryptic/cs_multiclass.ipynb#X26sZmlsZQ%3D%3D?line=0'>1</a>\u001b[0m x \u001b[39m=\u001b[39m inputs\u001b[39m.\u001b[39mnumpy()[\u001b[39m0\u001b[39m]\n\u001b[0;32m----> <a href='vscode-notebook-cell:/Users/matthewbakalar/Documents/Code/cryptic/cs_multiclass.ipynb#X26sZmlsZQ%3D%3D?line=1'>2</a>\u001b[0m [trans_dict[y] \u001b[39mfor\u001b[39;00m y \u001b[39min\u001b[39;00m x]\n",
      "\u001b[0;31mTypeError\u001b[0m: unhashable type: 'numpy.ndarray'"
     ]
    }
   ],
   "source": [
    "x = inputs.numpy()[0]\n",
    "[trans_dict[y] for y in x]"
   ]
  },
  {
   "cell_type": "code",
   "execution_count": null,
   "metadata": {},
   "outputs": [],
   "source": []
  },
  {
   "cell_type": "code",
   "execution_count": 10,
   "metadata": {},
   "outputs": [],
   "source": [
    "# Translate inputs\n",
    "trans_dict = {0:'A',1:'T',2:'C',3:'G',4:'N'}\n",
    "translate_func = lambda x: ''.join([trans_dict[y] for y in x])\n",
    "sequences = [translate_func(x) for x in inputs.numpy()]\n",
    "predictions = pd.DataFrame({'seq':sequences, 'label':labels, 'pred':preds})\n",
    "\n",
    "sites = pd.read_csv('data/Tb000208a/predict.csv', index_col='index')\n",
    "predictions = predictions.merge(sites, on='seq')"
   ]
  },
  {
   "cell_type": "code",
   "execution_count": 11,
   "metadata": {},
   "outputs": [
    {
     "data": {
      "text/html": [
       "<div>\n",
       "<style scoped>\n",
       "    .dataframe tbody tr th:only-of-type {\n",
       "        vertical-align: middle;\n",
       "    }\n",
       "\n",
       "    .dataframe tbody tr th {\n",
       "        vertical-align: top;\n",
       "    }\n",
       "\n",
       "    .dataframe thead th {\n",
       "        text-align: right;\n",
       "    }\n",
       "</style>\n",
       "<table border=\"1\" class=\"dataframe\">\n",
       "  <thead>\n",
       "    <tr style=\"text-align: right;\">\n",
       "      <th></th>\n",
       "      <th>seq</th>\n",
       "      <th>label</th>\n",
       "      <th>pred</th>\n",
       "      <th>norm_count</th>\n",
       "    </tr>\n",
       "  </thead>\n",
       "  <tbody>\n",
       "    <tr>\n",
       "      <th>0</th>\n",
       "      <td>AAAAAAAAAAAAAAAAAAGTCA</td>\n",
       "      <td>0</td>\n",
       "      <td>0</td>\n",
       "      <td>0.000215</td>\n",
       "    </tr>\n",
       "    <tr>\n",
       "      <th>1</th>\n",
       "      <td>AAAAAAAAAAAAAAAAATAGAG</td>\n",
       "      <td>0</td>\n",
       "      <td>0</td>\n",
       "      <td>0.000215</td>\n",
       "    </tr>\n",
       "    <tr>\n",
       "      <th>2</th>\n",
       "      <td>AAAAAAAAAAAAACAAAAAGAA</td>\n",
       "      <td>0</td>\n",
       "      <td>0</td>\n",
       "      <td>0.000215</td>\n",
       "    </tr>\n",
       "    <tr>\n",
       "      <th>3</th>\n",
       "      <td>AAAAAAAAAAAAAGCCACAGGA</td>\n",
       "      <td>0</td>\n",
       "      <td>0</td>\n",
       "      <td>0.000429</td>\n",
       "    </tr>\n",
       "    <tr>\n",
       "      <th>4</th>\n",
       "      <td>AAAAAAAAAAACAACAACAGCA</td>\n",
       "      <td>0</td>\n",
       "      <td>0</td>\n",
       "      <td>0.000859</td>\n",
       "    </tr>\n",
       "  </tbody>\n",
       "</table>\n",
       "</div>"
      ],
      "text/plain": [
       "                      seq  label  pred  norm_count\n",
       "0  AAAAAAAAAAAAAAAAAAGTCA      0     0    0.000215\n",
       "1  AAAAAAAAAAAAAAAAATAGAG      0     0    0.000215\n",
       "2  AAAAAAAAAAAAACAAAAAGAA      0     0    0.000215\n",
       "3  AAAAAAAAAAAAAGCCACAGGA      0     0    0.000429\n",
       "4  AAAAAAAAAAACAACAACAGCA      0     0    0.000859"
      ]
     },
     "execution_count": 11,
     "metadata": {},
     "output_type": "execute_result"
    }
   ],
   "source": [
    "predictions.head()"
   ]
  },
  {
   "cell_type": "code",
   "execution_count": 13,
   "metadata": {},
   "outputs": [
    {
     "ename": "NameError",
     "evalue": "name 'plt' is not defined",
     "output_type": "error",
     "traceback": [
      "\u001b[0;31m---------------------------------------------------------------------------\u001b[0m",
      "\u001b[0;31mNameError\u001b[0m                                 Traceback (most recent call last)",
      "\u001b[1;32m/Users/matthewbakalar/Documents/Code/cryptic/cs_multiclass.ipynb Cell 12\u001b[0m line \u001b[0;36m8\n\u001b[1;32m      <a href='vscode-notebook-cell:/Users/matthewbakalar/Documents/Code/cryptic/cs_multiclass.ipynb#X33sZmlsZQ%3D%3D?line=4'>5</a>\u001b[0m \u001b[39m#sorted['norm_count'].min()\u001b[39;00m\n\u001b[1;32m      <a href='vscode-notebook-cell:/Users/matthewbakalar/Documents/Code/cryptic/cs_multiclass.ipynb#X33sZmlsZQ%3D%3D?line=5'>6</a>\u001b[0m label_true[\u001b[39m'\u001b[39m\u001b[39mnorm_count\u001b[39m\u001b[39m'\u001b[39m]\u001b[39m.\u001b[39mmin()\n\u001b[0;32m----> <a href='vscode-notebook-cell:/Users/matthewbakalar/Documents/Code/cryptic/cs_multiclass.ipynb#X33sZmlsZQ%3D%3D?line=7'>8</a>\u001b[0m plt\u001b[39m.\u001b[39msemilogy(label_true[\u001b[39m'\u001b[39m\u001b[39mnorm_count\u001b[39m\u001b[39m'\u001b[39m])\n",
      "\u001b[0;31mNameError\u001b[0m: name 'plt' is not defined"
     ]
    }
   ],
   "source": [
    "sorted = predictions.sort_values('norm_count', ascending=False).reset_index()\n",
    "pred_true = sorted[sorted['pred'] == 1]\n",
    "label_true = sorted[sorted['label'] == 1]\n",
    "\n",
    "#sorted['norm_count'].min()\n",
    "label_true['norm_count'].min()\n",
    "\n",
    "#plt.semilogy(label_true['norm_count'])"
   ]
  },
  {
   "cell_type": "code",
   "execution_count": null,
   "metadata": {},
   "outputs": [],
   "source": []
  }
 ],
 "metadata": {
  "kernelspec": {
   "display_name": "base",
   "language": "python",
   "name": "python3"
  },
  "language_info": {
   "codemirror_mode": {
    "name": "ipython",
    "version": 3
   },
   "file_extension": ".py",
   "mimetype": "text/x-python",
   "name": "python",
   "nbconvert_exporter": "python",
   "pygments_lexer": "ipython3",
   "version": "3.11.3"
  },
  "orig_nbformat": 4
 },
 "nbformat": 4,
 "nbformat_minor": 2
}
