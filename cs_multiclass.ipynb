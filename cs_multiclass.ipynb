{
 "cells": [
  {
   "cell_type": "markdown",
   "metadata": {},
   "source": [
    "### Imports"
   ]
  },
  {
   "cell_type": "code",
   "execution_count": 1,
   "metadata": {},
   "outputs": [],
   "source": [
    "import os\n",
    "import pandas as pd\n",
    "import numpy as np\n",
    "import torch\n",
    "import lightning as L\n",
    "import lightning.pytorch as pl"
   ]
  },
  {
   "cell_type": "markdown",
   "metadata": {},
   "source": [
    "### Load sequence data from cryptic seq experiment"
   ]
  },
  {
   "cell_type": "code",
   "execution_count": 10,
   "metadata": {},
   "outputs": [],
   "source": [
    "# Preprosses cryptic seq data to normalize by on target\n",
    "import utils.cs_excel_data\n",
    "\n",
    "# Flag to trigger data export from excel files\n",
    "export_excel_data = False\n",
    "\n",
    "cs_data_file = 'data/TB000208a.outputs.xlsx'\n",
    "data_path = 'data/Tb000208a'\n",
    "train_sheets = ['GT-Rep1-N7_S1','GT-Rep2-N7_S2','GT-Rep3-N7_S3']\n",
    "test_sheets = ['Pool-Rep1-N7_S4','Pool-Rep2-N7_S5','Pool-Rep3-N7_S6']\n",
    "\n",
    "if export_excel_data:\n",
    "    utils.cs_excel_data.extract_excel_cs_data(cs_data_file, train_sheets, data_path, 'fit.csv')\n",
    "    utils.cs_excel_data.extract_excel_cs_data(cs_data_file, test_sheets, data_path, 'test.csv')"
   ]
  },
  {
   "cell_type": "code",
   "execution_count": 15,
   "metadata": {},
   "outputs": [],
   "source": [
    "from lightning.pytorch.utilities.types import EVAL_DATALOADERS\n",
    "from models import mlp\n",
    "from datasets import one_hot\n",
    "\n",
    "bins = 2\n",
    "seq_length = 22\n",
    "vocab_size = 5\n",
    "input_size = seq_length*vocab_size\n",
    "hidden_size = 1024\n",
    "n_hidden = 2\n",
    "train_test_split = 0.8\n",
    "\n",
    "class CSDataModule(L.LightningDataModule):\n",
    "    def __init__(self, data_path, batch_size):\n",
    "        super().__init__()\n",
    "        self.data_path = data_path\n",
    "        self.batch_size = batch_size\n",
    "\n",
    "    def setup(self, stage: str):\n",
    "        # Select test/train dataset\n",
    "        fname = stage + '.csv'\n",
    "\n",
    "        # Load the cryptic seq data\n",
    "        sites = pd.read_csv(os.path.join(self.data_path, fname))\n",
    "\n",
    "        # Log transform the data and bin into N bins\n",
    "        sites['norm_count'] = np.log(sites['norm_count'])\n",
    "        sites['bin'] = pd.cut(sites['norm_count'], bins, labels=False)\n",
    "\n",
    "        # Compute class frequencies for weighting\n",
    "        class_sample_count = np.array([len(np.where(sites['bin'] == c)[0]) for c in np.unique(sites['bin'])])\n",
    "\n",
    "        # Cryptic sites data for training\n",
    "        sequences = sites['seq'].values\n",
    "        labels = sites['bin'].values\n",
    "        self.seq_length = len(sequences[0])\n",
    "        self.dataset = one_hot.Dataset(sequences, labels, vocab_size=vocab_size, output_size=bins)\n",
    "\n",
    "        # Sample weights based on label and class frequency\n",
    "        weight = 1. / class_sample_count\n",
    "        samples_weight = np.array([weight[t] for t in labels])\n",
    "        self.samples_weight = torch.from_numpy(samples_weight)\n",
    "\n",
    "        if stage == 'fit':\n",
    "            # Test and train data split\n",
    "            train_size = int(train_test_split*len(self.dataset))\n",
    "            test_size = len(self.dataset) - train_size\n",
    "            self.train_dataset, self.val_dataset = torch.utils.data.random_split(self.dataset, [train_size, test_size])\n",
    "\n",
    "            # Weighted random sampler for upsampling minority class for training\n",
    "            train_sample_weights = samples_weight[self.train_dataset.indices]\n",
    "            self.train_sampler = torch.utils.data.WeightedRandomSampler(train_sample_weights, len(train_sample_weights), replacement=True)\n",
    "\n",
    "        elif stage == 'test':\n",
    "            self.test_dataset = self.dataset\n",
    "\n",
    "    def train_dataloader(self):\n",
    "        return torch.utils.data.DataLoader(self.train_dataset, batch_size=self.batch_size, sampler=self.train_sampler)\n",
    "\n",
    "    def val_dataloader(self):\n",
    "        return torch.utils.data.DataLoader(self.val_dataset, batch_size=self.batch_size)\n",
    "    \n",
    "    def test_dataloader(self):\n",
    "        return torch.utils.data.DataLoader(self.test_dataset, batch_size=self.batch_size)\n",
    "\n",
    "data_module = CSDataModule(data_path, batch_size=32)\n",
    "\n",
    "# Build model\n",
    "model = mlp.Model(input_size=input_size, hidden_size=hidden_size, output_size=bins, n_hidden=n_hidden, dropout=0.5)\n",
    "optimizer = torch.optim.Adam(model.parameters(), lr=0.001)"
   ]
  },
  {
   "cell_type": "markdown",
   "metadata": {},
   "source": [
    "### Training"
   ]
  },
  {
   "cell_type": "code",
   "execution_count": 16,
   "metadata": {},
   "outputs": [
    {
     "name": "stderr",
     "output_type": "stream",
     "text": [
      "GPU available: True (mps), used: True\n",
      "TPU available: False, using: 0 TPU cores\n",
      "IPU available: False, using: 0 IPUs\n",
      "HPU available: False, using: 0 HPUs\n",
      "\n",
      "  | Name    | Type              | Params\n",
      "----------------------------------------------\n",
      "0 | model   | Model             | 1.2 M \n",
      "1 | loss_fn | BCEWithLogitsLoss | 0     \n",
      "----------------------------------------------\n",
      "1.2 M     Trainable params\n",
      "0         Non-trainable params\n",
      "1.2 M     Total params\n",
      "4.661     Total estimated model params size (MB)\n"
     ]
    },
    {
     "data": {
      "application/vnd.jupyter.widget-view+json": {
       "model_id": "b53acfa76a544ab78f0f5a57b5828412",
       "version_major": 2,
       "version_minor": 0
      },
      "text/plain": [
       "Sanity Checking: |          | 0/? [00:00<?, ?it/s]"
      ]
     },
     "metadata": {},
     "output_type": "display_data"
    },
    {
     "name": "stderr",
     "output_type": "stream",
     "text": [
      "/Users/matthewbakalar/anaconda3/lib/python3.11/site-packages/lightning/pytorch/trainer/connectors/data_connector.py:441: The 'val_dataloader' does not have many workers which may be a bottleneck. Consider increasing the value of the `num_workers` argument` to `num_workers=9` in the `DataLoader` to improve performance.\n",
      "/Users/matthewbakalar/anaconda3/lib/python3.11/site-packages/lightning/pytorch/trainer/connectors/data_connector.py:441: The 'train_dataloader' does not have many workers which may be a bottleneck. Consider increasing the value of the `num_workers` argument` to `num_workers=9` in the `DataLoader` to improve performance.\n"
     ]
    },
    {
     "data": {
      "application/vnd.jupyter.widget-view+json": {
       "model_id": "45b41526671f463a9543b13bcafe9453",
       "version_major": 2,
       "version_minor": 0
      },
      "text/plain": [
       "Training: |          | 0/? [00:00<?, ?it/s]"
      ]
     },
     "metadata": {},
     "output_type": "display_data"
    },
    {
     "data": {
      "application/vnd.jupyter.widget-view+json": {
       "model_id": "23847ff5a8544b85ba07592b3b8c8fdc",
       "version_major": 2,
       "version_minor": 0
      },
      "text/plain": [
       "Validation: |          | 0/? [00:00<?, ?it/s]"
      ]
     },
     "metadata": {},
     "output_type": "display_data"
    },
    {
     "data": {
      "application/vnd.jupyter.widget-view+json": {
       "model_id": "2623e4b0dc0040f687b12474807b83fe",
       "version_major": 2,
       "version_minor": 0
      },
      "text/plain": [
       "Validation: |          | 0/? [00:00<?, ?it/s]"
      ]
     },
     "metadata": {},
     "output_type": "display_data"
    },
    {
     "data": {
      "application/vnd.jupyter.widget-view+json": {
       "model_id": "bceaeb87335e4c8e93055cc2d961ba9e",
       "version_major": 2,
       "version_minor": 0
      },
      "text/plain": [
       "Validation: |          | 0/? [00:00<?, ?it/s]"
      ]
     },
     "metadata": {},
     "output_type": "display_data"
    },
    {
     "data": {
      "application/vnd.jupyter.widget-view+json": {
       "model_id": "3b3f59fe129348698edd2d5bda168499",
       "version_major": 2,
       "version_minor": 0
      },
      "text/plain": [
       "Validation: |          | 0/? [00:00<?, ?it/s]"
      ]
     },
     "metadata": {},
     "output_type": "display_data"
    },
    {
     "data": {
      "application/vnd.jupyter.widget-view+json": {
       "model_id": "f9aba1e02e514d9eb173a376d06d9511",
       "version_major": 2,
       "version_minor": 0
      },
      "text/plain": [
       "Validation: |          | 0/? [00:00<?, ?it/s]"
      ]
     },
     "metadata": {},
     "output_type": "display_data"
    },
    {
     "name": "stderr",
     "output_type": "stream",
     "text": [
      "`Trainer.fit` stopped: `max_epochs=5` reached.\n",
      "/Users/matthewbakalar/anaconda3/lib/python3.11/site-packages/lightning/pytorch/trainer/connectors/data_connector.py:441: The 'test_dataloader' does not have many workers which may be a bottleneck. Consider increasing the value of the `num_workers` argument` to `num_workers=9` in the `DataLoader` to improve performance.\n"
     ]
    },
    {
     "data": {
      "application/vnd.jupyter.widget-view+json": {
       "model_id": "c8987d4a1ebc461da17a0c93ee4e8504",
       "version_major": 2,
       "version_minor": 0
      },
      "text/plain": [
       "Testing: |          | 0/? [00:00<?, ?it/s]"
      ]
     },
     "metadata": {},
     "output_type": "display_data"
    },
    {
     "name": "stdout",
     "output_type": "stream",
     "text": [
      "────────────────────────────────────────────────────────────────────────────────────────────────────────────────────────\n",
      "       Test metric             DataLoader 0\n",
      "────────────────────────────────────────────────────────────────────────────────────────────────────────────────────────\n",
      "        test_loss           0.3728824555873871\n",
      "────────────────────────────────────────────────────────────────────────────────────────────────────────────────────────\n"
     ]
    },
    {
     "data": {
      "text/plain": [
       "[{'test_loss': 0.3728824555873871}]"
      ]
     },
     "execution_count": 16,
     "metadata": {},
     "output_type": "execute_result"
    }
   ],
   "source": [
    "# define the LightningModule\n",
    "class LitClassifier(pl.LightningModule):\n",
    "    def __init__(self, model):\n",
    "        super().__init__()\n",
    "        self.model = model\n",
    "        self.loss_fn = torch.nn.BCEWithLogitsLoss()\n",
    "\n",
    "    def forward(self, x):\n",
    "        return self.model(x)\n",
    "\n",
    "    def training_step(self, batch, batch_idx):\n",
    "        # Model pass\n",
    "        data, target = batch\n",
    "        output = self(data)\n",
    "        loss = self.loss_fn(output, target.float())\n",
    "\n",
    "        # Logging to TensorBoard (if installed) by default\n",
    "        self.log(\"train_loss\", loss)\n",
    "        return loss\n",
    "    \n",
    "    def validation_step(self, batch, batch_idx):\n",
    "        # Model pass\n",
    "        data, target = batch\n",
    "        output = self.model(data)\n",
    "        loss = self.loss_fn(output, target.float())\n",
    "\n",
    "        # Logging to TensorBoard (if installed) by default\n",
    "        self.log(\"val_loss\", loss)\n",
    "        return loss\n",
    "    \n",
    "    def test_step(self, batch, batch_idx):\n",
    "        # Model pass\n",
    "        data, target = batch\n",
    "        output = self.model(data)\n",
    "        loss = self.loss_fn(output, target.float())\n",
    "\n",
    "        # Logging to TensorBoard (if installed) by default\n",
    "        self.log(\"test_loss\", loss)\n",
    "        return loss\n",
    "\n",
    "    def configure_optimizers(self):\n",
    "        optimizer = torch.optim.Adam(self.parameters(), lr=1e-3)\n",
    "        return optimizer\n",
    "    \n",
    "# init the autoencoder\n",
    "lit_model = LitClassifier(model)\n",
    "\n",
    "# train the model\n",
    "tb_logger = pl.loggers.TensorBoardLogger(save_dir=\"lightning_logs/\")\n",
    "trainer = pl.Trainer(max_epochs=5, logger=tb_logger, accelerator=\"gpu\")\n",
    "trainer.fit(lit_model, data_module)\n",
    "trainer.test(lit_model, data_module)\n"
   ]
  },
  {
   "cell_type": "markdown",
   "metadata": {},
   "source": [
    "### Analysis"
   ]
  },
  {
   "cell_type": "code",
   "execution_count": 49,
   "metadata": {},
   "outputs": [],
   "source": [
    "from matplotlib import pyplot as plt\n",
    "\n",
    "# Iterate over the DataLoader and make predictions\n",
    "val_inputs = []\n",
    "val_targets = []\n",
    "val_preds = []\n",
    "with torch.no_grad():\n",
    "    for i, (data, target) in enumerate(val_dataloader):\n",
    "        output = model(data)\n",
    "\n",
    "        # Convert output probabilities to predicted class\n",
    "        preds = output.float()\n",
    "\n",
    "        # Save prediction data\n",
    "        val_inputs.extend(data.tolist())\n",
    "        val_preds.extend(preds)\n",
    "        val_targets.extend(target)\n",
    "\n",
    "# Translate inputs\n",
    "trans_dict = {0:'A',1:'T',2:'C',3:'G',4:'N'}\n",
    "translate_func = lambda x: ''.join([trans_dict[y] for y in x])\n",
    "\n",
    "inputs = np.argmax(val_inputs, axis=2)\n",
    "inputs = [translate_func(x) for x in inputs]\n",
    "\n",
    "# Argmax targets and predictions\n",
    "val_targets = torch.argmax(torch.stack(val_targets), 1)\n",
    "val_preds = torch.argmax(torch.stack(val_preds), 1)\n",
    "\n",
    "predictions = pd.DataFrame({\"seq\":inputs, \"targets\":val_targets, \"outputs\": val_preds})"
   ]
  },
  {
   "cell_type": "code",
   "execution_count": 50,
   "metadata": {},
   "outputs": [
    {
     "data": {
      "text/plain": [
       "array([[<Axes: title={'center': 'targets'}>,\n",
       "        <Axes: title={'center': 'outputs'}>]], dtype=object)"
      ]
     },
     "execution_count": 50,
     "metadata": {},
     "output_type": "execute_result"
    },
    {
     "data": {
      "image/png": "[encoded data removed]",
      "text/plain": [
       "<Figure size 640x480 with 2 Axes>"
      ]
     },
     "metadata": {},
     "output_type": "display_data"
    }
   ],
   "source": [
    "predictions.hist()"
   ]
  },
  {
   "cell_type": "code",
   "execution_count": null,
   "metadata": {},
   "outputs": [],
   "source": [
    "for seq in predictions[predictions['targets'] == 0]['seq']:\n",
    "    print(seq)"
   ]
  },
  {
   "cell_type": "markdown",
   "metadata": {},
   "source": [
    "### Validation"
   ]
  },
  {
   "cell_type": "code",
   "execution_count": 54,
   "metadata": {},
   "outputs": [],
   "source": [
    "# Parameters\n",
    "BINS = 2\n",
    "SEQUENCE = 'seq'\n",
    "VALUE = 'count'\n",
    "\n",
    "# Load data from cryptic seq experiment\n",
    "sites_xl = pd.ExcelFile('./data/TB000208a.outputs.xlsx')\n",
    "sites_xl.sheet_names\n",
    "training_sheets = ['Pool-Rep1-N7_S4','Pool-Rep2-N7_S5','Pool-Rep3-N7_S6']\n",
    "sheets = []\n",
    "for name in training_sheets:\n",
    "    sheets.append(sites_xl.parse(name))\n",
    "sites = pd.concat(sheets).reset_index()\n",
    "\n",
    "# Only take canonical dinucleotide insertions\n",
    "sites = sites[sites['genome_dinucleotide'] == sites['donor'].str.slice(5,7)]\n",
    "\n",
    "# Average count at identical sites\n",
    "sites = sites.groupby(['seq'], as_index=False).sum(numeric_only=False)\n",
    "\n",
    "# Noramlize by on target count\n",
    "UMI_norm_factor = sites[sites['chrom'].str.contains('PL312')]['count'].mean()\n",
    "sites['count'] = sites['count']/UMI_norm_factor"
   ]
  },
  {
   "cell_type": "code",
   "execution_count": 59,
   "metadata": {},
   "outputs": [],
   "source": [
    "# Prepare data for classifier\n",
    "sites[VALUE] = np.log(sites[VALUE])\n",
    "\n",
    "# Bin the counts into N bins\n",
    "sites[VALUE], bins = pd.cut(sites[VALUE], BINS, labels=False, retbins=True)\n",
    "\n",
    "# Compute class frequencies for weighting\n",
    "class_sample_count = np.array([len(np.where(sites[VALUE] == c)[0]) for c in np.unique(sites[VALUE])])"
   ]
  },
  {
   "cell_type": "code",
   "execution_count": null,
   "metadata": {},
   "outputs": [],
   "source": []
  }
 ],
 "metadata": {
  "kernelspec": {
   "display_name": "base",
   "language": "python",
   "name": "python3"
  },
  "language_info": {
   "codemirror_mode": {
    "name": "ipython",
    "version": 3
   },
   "file_extension": ".py",
   "mimetype": "text/x-python",
   "name": "python",
   "nbconvert_exporter": "python",
   "pygments_lexer": "ipython3",
   "version": "3.11.3"
  },
  "orig_nbformat": 4
 },
 "nbformat": 4,
 "nbformat_minor": 2
}
